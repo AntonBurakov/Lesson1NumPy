{
 "cells": [
  {
   "cell_type": "code",
   "execution_count": 1,
   "id": "384faed1",
   "metadata": {},
   "outputs": [
    {
     "name": "stdout",
     "output_type": "stream",
     "text": [
      "Requirement already satisfied: numpy in /Users/antonburakov/anaconda3/lib/python3.11/site-packages (1.24.3)\r\n"
     ]
    }
   ],
   "source": [
    "!pip install numpy"
   ]
  },
  {
   "cell_type": "code",
   "execution_count": 2,
   "id": "ed55ffcf",
   "metadata": {},
   "outputs": [],
   "source": [
    "import numpy as np"
   ]
  },
  {
   "cell_type": "code",
   "execution_count": 54,
   "id": "de629ca8",
   "metadata": {},
   "outputs": [
    {
     "name": "stdout",
     "output_type": "stream",
     "text": [
      "[[1 2 3]\n",
      " [6 7 8]]\n",
      "2\n",
      "(2, 3)\n",
      "(2, 3)\n",
      "6\n",
      "int64\n"
     ]
    }
   ],
   "source": [
    "a = np.array([[1, 2, 3], [6, 7, 8]])\n",
    "print(a)\n",
    "print(a.ndim)\n",
    "print(a.shape)\n",
    "print(np.shape(a))\n",
    "print(a.size)\n",
    "print(a.dtype)"
   ]
  },
  {
   "cell_type": "code",
   "execution_count": 12,
   "id": "735dd261",
   "metadata": {},
   "outputs": [
    {
     "name": "stdout",
     "output_type": "stream",
     "text": [
      "[0 2 4 6 8]\n",
      "[ 0.   2.5  5.   7.5 10. ]\n"
     ]
    }
   ],
   "source": [
    "b = np.arange(0,10,2)\n",
    "print(b)\n",
    "\n",
    "c = np.linspace(0,10,5)\n",
    "print(c)"
   ]
  },
  {
   "cell_type": "code",
   "execution_count": 14,
   "id": "a99f74f9",
   "metadata": {},
   "outputs": [
    {
     "name": "stdout",
     "output_type": "stream",
     "text": [
      "[0. 0. 0. 0. 0.]\n",
      "[1. 1. 1. 1. 1. 1.]\n",
      "[[1. 0. 0. 0. 0. 0. 0.]\n",
      " [0. 1. 0. 0. 0. 0. 0.]\n",
      " [0. 0. 1. 0. 0. 0. 0.]\n",
      " [0. 0. 0. 1. 0. 0. 0.]\n",
      " [0. 0. 0. 0. 1. 0. 0.]\n",
      " [0. 0. 0. 0. 0. 1. 0.]\n",
      " [0. 0. 0. 0. 0. 0. 1.]]\n"
     ]
    }
   ],
   "source": [
    "d = np.zeros(5)\n",
    "print(d)\n",
    "\n",
    "e = np.ones(6)\n",
    "print(e)\n",
    "\n",
    "f = np.eye(7)\n",
    "print(f)"
   ]
  },
  {
   "cell_type": "code",
   "execution_count": 15,
   "id": "e31173dc",
   "metadata": {},
   "outputs": [
    {
     "name": "stdout",
     "output_type": "stream",
     "text": [
      "[[1 4 3]\n",
      " [6 7 8]]\n"
     ]
    }
   ],
   "source": [
    "a[0][1] = 4\n",
    "print(a)"
   ]
  },
  {
   "cell_type": "code",
   "execution_count": 17,
   "id": "8a866a13",
   "metadata": {},
   "outputs": [
    {
     "name": "stdout",
     "output_type": "stream",
     "text": [
      "[[9 4 3]\n",
      " [9 7 8]]\n"
     ]
    }
   ],
   "source": [
    "a[:,0] = [9,9]\n",
    "print(a)"
   ]
  },
  {
   "cell_type": "code",
   "execution_count": 18,
   "id": "9e0d3f09",
   "metadata": {},
   "outputs": [
    {
     "name": "stdout",
     "output_type": "stream",
     "text": [
      "[[9 9]\n",
      " [4 7]\n",
      " [3 8]]\n"
     ]
    }
   ],
   "source": [
    "g = np.transpose(a)\n",
    "print(g)"
   ]
  },
  {
   "cell_type": "code",
   "execution_count": 19,
   "id": "ff0fdb25",
   "metadata": {},
   "outputs": [
    {
     "name": "stdout",
     "output_type": "stream",
     "text": [
      "[1 2 3 4]\n",
      "[1 2 3]\n",
      "[1 2 3]\n"
     ]
    }
   ],
   "source": [
    "j = np.array([1,2,3,4])\n",
    "j1 = np.delete(j,3)\n",
    "j2 = j[0:3]\n",
    "print(j)\n",
    "print(j1)\n",
    "print(j2)"
   ]
  },
  {
   "cell_type": "code",
   "execution_count": 26,
   "id": "b86e7cfc",
   "metadata": {},
   "outputs": [
    {
     "name": "stdout",
     "output_type": "stream",
     "text": [
      "[[1 2 3]\n",
      " [4 5 6]]\n",
      "[[1 2]\n",
      " [4 5]]\n"
     ]
    }
   ],
   "source": [
    "i = np.array([[1,2,3], [4,5,6]])\n",
    "print(i)\n",
    "i1 = np.delete(i,2,1)\n",
    "print(i1)"
   ]
  },
  {
   "cell_type": "code",
   "execution_count": 30,
   "id": "6004c97c",
   "metadata": {
    "scrolled": true
   },
   "outputs": [
    {
     "name": "stdout",
     "output_type": "stream",
     "text": [
      "[1 2 3 4 5 6]\n",
      "[[1 2 3]\n",
      " [4 5 6]]\n"
     ]
    }
   ],
   "source": [
    "k = np.array([1,2,3,4,5,6])\n",
    "print(k)\n",
    "l = k.reshape(2,3)\n",
    "print(l)"
   ]
  },
  {
   "cell_type": "markdown",
   "id": "078d6f00",
   "metadata": {},
   "source": [
    "# Векторы"
   ]
  },
  {
   "cell_type": "code",
   "execution_count": 32,
   "id": "58bc5c77",
   "metadata": {},
   "outputs": [
    {
     "name": "stdout",
     "output_type": "stream",
     "text": [
      "[5 6 7 8]\n",
      "[ 6  8 10 12]\n"
     ]
    }
   ],
   "source": [
    "x = np.array([1,2,3,4])\n",
    "x1 = x + 4\n",
    "print(x1)\n",
    "\n",
    "x2 = x + x1\n",
    "print(x2)"
   ]
  },
  {
   "cell_type": "code",
   "execution_count": 34,
   "id": "567e48e9",
   "metadata": {},
   "outputs": [
    {
     "name": "stdout",
     "output_type": "stream",
     "text": [
      "[10. 15.]\n"
     ]
    }
   ],
   "source": [
    "z = np.array([[20, 10], [17, 22]])\n",
    "z1 = np.array([350, 500])\n",
    "y = np.linalg.solve(z,z1)\n",
    "print(y)"
   ]
  },
  {
   "cell_type": "code",
   "execution_count": 43,
   "id": "9e533b39",
   "metadata": {},
   "outputs": [
    {
     "name": "stdout",
     "output_type": "stream",
     "text": [
      "[5 7 9]\n",
      "[-3 -3 -3]\n",
      "[-4 -5 -6]\n",
      "[ 4 10 18]\n",
      "[0.25 0.4  0.5 ]\n",
      "[0 0 0]\n",
      "[  1  32 729]\n"
     ]
    }
   ],
   "source": [
    "k1 = np.array([1,2,3])\n",
    "k2 = np.array([4,5,6])\n",
    "k3 = np.add(k1,k2)\n",
    "print(k3)\n",
    "k4 = np.subtract(k1,k2)\n",
    "print(k4)\n",
    "k5 = np.negative(k2)\n",
    "print(k5)\n",
    "k6 = np.multiply(k1,k2)\n",
    "print(k6)\n",
    "k7 = np.divide(k1,k2)\n",
    "print(k7)\n",
    "k8 = np.floor_divide(k1,k2)\n",
    "print(k8)\n",
    "k9 = np.power(k1,k2)\n",
    "print(k9)"
   ]
  },
  {
   "cell_type": "code",
   "execution_count": 48,
   "id": "6bfee3ff",
   "metadata": {},
   "outputs": [
    {
     "name": "stdout",
     "output_type": "stream",
     "text": [
      "94\n",
      "15.666666666666666\n",
      "17.603661235347857\n",
      "309.88888888888886\n",
      "2\n",
      "54\n",
      "0\n",
      "4\n",
      "[ 2  7 14 27 81 94]\n",
      "[     2     10     70    910  49140 638820]\n",
      "[ 2  5  7 13 54]\n"
     ]
    }
   ],
   "source": [
    "n = np.array([2,5,7,13,54,13])\n",
    "n1 = np.sum(n)\n",
    "n2 = np.mean(n)\n",
    "n3 = np.std(n)\n",
    "n4 = np.var(n)\n",
    "n5 = np.min(n)\n",
    "n6 = np.max(n)\n",
    "n7 = np.argmin(n)\n",
    "n8 = np.argmax(n)\n",
    "n9 = np.cumsum(n)\n",
    "n10 = np.cumprod(n)\n",
    "print(n1)\n",
    "print(n2)\n",
    "print(n3)\n",
    "print(n4)\n",
    "print(n5)\n",
    "print(n6)\n",
    "print(n7)\n",
    "print(n8)\n",
    "print(n9)\n",
    "print(n10)\n",
    "\n",
    "n11 = np.unique(n)\n",
    "print(n11)"
   ]
  },
  {
   "cell_type": "code",
   "execution_count": 49,
   "id": "cf28c476",
   "metadata": {},
   "outputs": [
    {
     "name": "stdout",
     "output_type": "stream",
     "text": [
      "[2 5]\n",
      "[1 2 4 5 7]\n",
      "[4 7]\n",
      "[1 4 7]\n"
     ]
    }
   ],
   "source": [
    "o1 = np.array([4,5,7,2])\n",
    "o2 = np.array([1,2,2,5])\n",
    "o3 = np.intersect1d(o1,o2)\n",
    "o4 = np.union1d(o1,o2)\n",
    "o5 = np.setdiff1d(o1,o2)\n",
    "o6 = np.setxor1d(o1,o2)\n",
    "\n",
    "print(o3)\n",
    "print(o4)\n",
    "print(o5)\n",
    "print(o6)"
   ]
  },
  {
   "cell_type": "code",
   "execution_count": 52,
   "id": "f29c253f",
   "metadata": {},
   "outputs": [
    {
     "name": "stdout",
     "output_type": "stream",
     "text": [
      "1960\n"
     ]
    }
   ],
   "source": [
    "y1 = np.array([1,3,5,8])\n",
    "y2 = np.array([3,632,1,7])\n",
    "y3 = np.dot(y1,y2)\n",
    "print(y3)"
   ]
  },
  {
   "cell_type": "code",
   "execution_count": 53,
   "id": "4dc23b91",
   "metadata": {},
   "outputs": [
    {
     "name": "stdout",
     "output_type": "stream",
     "text": [
      "4\n"
     ]
    }
   ],
   "source": [
    "print(np.array([1,2,3,4])[-1])"
   ]
  },
  {
   "cell_type": "code",
   "execution_count": 62,
   "id": "66d8fae5",
   "metadata": {},
   "outputs": [
    {
     "name": "stdout",
     "output_type": "stream",
     "text": [
      "[   0    1   16   81  256  625 1296 2401 4096 6561]\n",
      "[  0   1   8  27  64 125 216 343 512 729]\n",
      "17358\n",
      "13308\n",
      "1\n",
      "729\n"
     ]
    }
   ],
   "source": [
    "array = np.arange(10) ** 4\n",
    "print(array)\n",
    "array_2 = np.arange(10) **3\n",
    "print(array_2)\n",
    "array_sum = np.sum(np.add(array,array_2))\n",
    "print(array_sum)\n",
    "\n",
    "array_difference = np.sum(np.subtract(array,array_2))\n",
    "print(array_difference)\n",
    "\n",
    "game_payments2 = array[1]\n",
    "print(game_payments2)\n",
    "\n",
    "subscription_last = array_2[-1]\n",
    "print(subscription_last)"
   ]
  },
  {
   "cell_type": "code",
   "execution_count": 88,
   "id": "1e099a0d",
   "metadata": {},
   "outputs": [
    {
     "name": "stdout",
     "output_type": "stream",
     "text": [
      "[[3 8 1 0 1 2]\n",
      " [9 2 7 3 0 4]\n",
      " [2 5 1 3 1 8]\n",
      " [5 1 2 1 1 0]]\n",
      "70\n",
      "[[3 9 2 5]\n",
      " [8 2 5 1]\n",
      " [1 7 1 2]\n",
      " [0 3 3 1]\n",
      " [1 0 1 1]\n",
      " [2 4 8 0]]\n",
      "2.9166666666666665\n",
      "[[9 2 7 3 0 4]\n",
      " [2 5 1 3 1 8]\n",
      " [5 1 2 1 1 0]]\n",
      "[2 4 8 0]\n"
     ]
    }
   ],
   "source": [
    "some_data =  [\n",
    "    [3, 8, 1, 0, 1, 2],\n",
    "    [9, 2, 7, 3, 0, 4],\n",
    "    [2, 5, 1, 3, 1, 8],\n",
    "    [5, 1, 2, 1, 1, 0]\n",
    "]\n",
    "some_data = np.array(some_data)\n",
    "print(some_data)\n",
    "array_sum = np.sum(some_data)\n",
    "print(array_sum)\n",
    "array_t = np.transpose(some_data)\n",
    "print(array_t)\n",
    "array_avg = np.mean(some_data)\n",
    "print(array_avg)\n",
    "lines = np.delete(some_data, 0, 0)\n",
    "print(lines)\n",
    "\n",
    "last_column = some_data[:, 5]\n",
    "print(last_column)\n",
    "\n"
   ]
  },
  {
   "cell_type": "code",
   "execution_count": 90,
   "id": "804ec62b",
   "metadata": {},
   "outputs": [
    {
     "name": "stdout",
     "output_type": "stream",
     "text": [
      "[[3 2 1]\n",
      " [1 6 2]\n",
      " [4 1 5]]\n",
      "[90. 15. 60.]\n"
     ]
    }
   ],
   "source": [
    "A = np.array([[3,2,1], [1,6,2], [4,1,5]])\n",
    "B = np.array([360,300,675])\n",
    "print(A)\n",
    "C = np.linalg.solve(A,B)\n",
    "print(C)"
   ]
  },
  {
   "cell_type": "code",
   "execution_count": null,
   "id": "d6516d53",
   "metadata": {},
   "outputs": [],
   "source": []
  }
 ],
 "metadata": {
  "kernelspec": {
   "display_name": "Python 3 (ipykernel)",
   "language": "python",
   "name": "python3"
  },
  "language_info": {
   "codemirror_mode": {
    "name": "ipython",
    "version": 3
   },
   "file_extension": ".py",
   "mimetype": "text/x-python",
   "name": "python",
   "nbconvert_exporter": "python",
   "pygments_lexer": "ipython3",
   "version": "3.11.5"
  }
 },
 "nbformat": 4,
 "nbformat_minor": 5
}
